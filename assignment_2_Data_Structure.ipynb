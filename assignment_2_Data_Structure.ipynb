{
  "nbformat": 4,
  "nbformat_minor": 0,
  "metadata": {
    "colab": {
      "provenance": []
    },
    "kernelspec": {
      "name": "python3",
      "display_name": "Python 3"
    },
    "language_info": {
      "name": "python"
    }
  },
  "cells": [
    {
      "cell_type": "markdown",
      "source": [
        "# Practical **Questions**"
      ],
      "metadata": {
        "id": "ie1FyA27EoZ6"
      }
    },
    {
      "cell_type": "code",
      "source": [
        "#DP Write a code to create a string with your name and print it\n",
        "name=\"jaya pal\"\n",
        "print(name)"
      ],
      "metadata": {
        "colab": {
          "base_uri": "https://localhost:8080/"
        },
        "id": "N6H2sYC7E2gL",
        "outputId": "cb7bbc42-ae55-44e8-a913-e717b6e74a75"
      },
      "execution_count": null,
      "outputs": [
        {
          "output_type": "stream",
          "name": "stdout",
          "text": [
            "jaya pal\n"
          ]
        }
      ]
    },
    {
      "cell_type": "code",
      "source": [
        "#2 Write a code to find the length of the string \"Hello World\"\n",
        "x=\"hello world\"\n",
        "print(len(x))"
      ],
      "metadata": {
        "colab": {
          "base_uri": "https://localhost:8080/"
        },
        "id": "_y2D2kbDFKYt",
        "outputId": "2c9c4cbf-50e4-47a4-cd0a-771c9ab21a16"
      },
      "execution_count": null,
      "outputs": [
        {
          "output_type": "stream",
          "name": "stdout",
          "text": [
            "11\n"
          ]
        }
      ]
    },
    {
      "cell_type": "code",
      "source": [
        "#3 Write a code to slice the first 3 characters from the string \"Python Programming\"\n",
        "x==\"python programming\"\n",
        "print(x[0:3])"
      ],
      "metadata": {
        "colab": {
          "base_uri": "https://localhost:8080/"
        },
        "id": "pMU740aOFox4",
        "outputId": "11bd0bc4-b568-497e-f290-5f5ad8a2f8bb"
      },
      "execution_count": null,
      "outputs": [
        {
          "output_type": "stream",
          "name": "stdout",
          "text": [
            "hel\n"
          ]
        }
      ]
    },
    {
      "cell_type": "code",
      "source": [
        "#4.Write a code to convert the string \"hello\" to uppercase\n",
        "x=\"hello\"\n",
        "print(x.upper())\n"
      ],
      "metadata": {
        "colab": {
          "base_uri": "https://localhost:8080/"
        },
        "id": "dI-nvk8BF_yi",
        "outputId": "5d63741b-04e5-48b6-efbc-fa61731587e0"
      },
      "execution_count": null,
      "outputs": [
        {
          "output_type": "stream",
          "name": "stdout",
          "text": [
            "HELLO\n"
          ]
        }
      ]
    },
    {
      "cell_type": "code",
      "source": [
        "#5. Write a code to replace the word \"apple\" with \"orange\" in the string \"I like apple\"\n",
        "x=\"I like apple\"\n",
        "print(x.replace(\"apple\", \"orange\"))"
      ],
      "metadata": {
        "colab": {
          "base_uri": "https://localhost:8080/"
        },
        "id": "q5R9eUwQGTEm",
        "outputId": "d62a74cb-8bb5-4128-8152-2950d99e668e"
      },
      "execution_count": null,
      "outputs": [
        {
          "output_type": "stream",
          "name": "stdout",
          "text": [
            "I like orange\n"
          ]
        }
      ]
    },
    {
      "cell_type": "code",
      "source": [
        "#6 Write a code to create a list with numbers 1 to 5 and print it.\n",
        "x=[1,2,3,4,5]\n",
        "print(x)\n"
      ],
      "metadata": {
        "colab": {
          "base_uri": "https://localhost:8080/"
        },
        "id": "OpB7SIpwHBl3",
        "outputId": "652b4807-253d-4172-84a1-996632cfbea2"
      },
      "execution_count": null,
      "outputs": [
        {
          "output_type": "stream",
          "name": "stdout",
          "text": [
            "[1, 2, 3, 4, 5]\n"
          ]
        }
      ]
    },
    {
      "cell_type": "markdown",
      "source": [],
      "metadata": {
        "id": "UqIqUUGlJ46z"
      }
    },
    {
      "cell_type": "code",
      "source": [
        "#7.Write a code to append the number 10 to the list [1, 2, 3, 4]\n",
        "x=[1,2,3,4]\n",
        "num=x+[10]\n",
        "print(num)"
      ],
      "metadata": {
        "colab": {
          "base_uri": "https://localhost:8080/"
        },
        "id": "pn2KpU19HNUQ",
        "outputId": "0af083b2-9e34-4367-e8a7-69adf4cc75f5"
      },
      "execution_count": null,
      "outputs": [
        {
          "output_type": "stream",
          "name": "stdout",
          "text": [
            "[1, 2, 3, 4, 10]\n"
          ]
        }
      ]
    },
    {
      "cell_type": "code",
      "source": [
        "#8.Write a code to remove the number 3 from the list [1, 2, 3, 4, 5]\n",
        "x=[1,2,3,4,5]\n",
        "num= [x[0],x[1],x[3],x[4]]\n",
        "print(num)"
      ],
      "metadata": {
        "colab": {
          "base_uri": "https://localhost:8080/"
        },
        "id": "ZwmbO-amIufq",
        "outputId": "3b4cabd1-5c60-4c63-e5d2-1e9349895510"
      },
      "execution_count": null,
      "outputs": [
        {
          "output_type": "stream",
          "name": "stdout",
          "text": [
            "[1, 2, 4, 5]\n"
          ]
        }
      ]
    },
    {
      "cell_type": "code",
      "source": [
        "#9 Write a code to access the second element in the list ['a', 'b', 'c', 'd']\n",
        "x=['a','b','c','d']\n",
        "y = x[1] # Access the second element (index 1)\n",
        "print(y)"
      ],
      "metadata": {
        "colab": {
          "base_uri": "https://localhost:8080/"
        },
        "id": "9iUhWitfJuxK",
        "outputId": "9c70a27b-cd38-4f6e-830d-324f791e4283"
      },
      "execution_count": null,
      "outputs": [
        {
          "output_type": "stream",
          "name": "stdout",
          "text": [
            "b\n"
          ]
        }
      ]
    },
    {
      "cell_type": "code",
      "source": [
        "#10 Write a code to reverse the list [10, 20, 30, 40, 50].\n",
        "x=[10,20,30,40,50]\n",
        "print(x[::-1])"
      ],
      "metadata": {
        "colab": {
          "base_uri": "https://localhost:8080/"
        },
        "id": "MVGpM-SGKZmF",
        "outputId": "97975db7-fadc-410c-895c-0e36bfcb8b6b"
      },
      "execution_count": null,
      "outputs": [
        {
          "output_type": "stream",
          "name": "stdout",
          "text": [
            "[50, 40, 30, 20, 10]\n"
          ]
        }
      ]
    },
    {
      "cell_type": "code",
      "source": [
        "#11. Write a code to create a tuple with the elements 100, 200, 300 and print it.\n",
        "tuple=(100,200,300)\n",
        "print(tuple)"
      ],
      "metadata": {
        "colab": {
          "base_uri": "https://localhost:8080/"
        },
        "id": "XB9hNdNVLg-p",
        "outputId": "46db88fb-819c-49e4-970d-8178d56ddc6b"
      },
      "execution_count": null,
      "outputs": [
        {
          "output_type": "stream",
          "name": "stdout",
          "text": [
            "(100, 200, 300)\n"
          ]
        }
      ]
    },
    {
      "cell_type": "code",
      "source": [
        "#12.. Write a code to access the second-to-last element of the tuple ('red', 'green', 'blue', 'yellow')\n",
        "tuple=('red','green','blue','yellow')\n",
        "print(tuple[-2])"
      ],
      "metadata": {
        "id": "jB6Pk9CdL1BY"
      },
      "execution_count": null,
      "outputs": []
    },
    {
      "cell_type": "code",
      "metadata": {
        "colab": {
          "base_uri": "https://localhost:8080/"
        },
        "id": "59cd9f00",
        "outputId": "6eb3e474-309e-4605-9c6e-1cab92106e80"
      },
      "source": [
        "#13 . Write a code to find the minimum number in the tuple (10, 20, 5, 15).\n",
        "tuple = (10, 20, 5, 15)\n",
        "minimum_number = min(tuple)\n",
        "print(minimum_number)"
      ],
      "execution_count": null,
      "outputs": [
        {
          "output_type": "stream",
          "name": "stdout",
          "text": [
            "5\n"
          ]
        }
      ]
    },
    {
      "cell_type": "code",
      "source": [
        "#14.  Write a code to find the index of the element \"cat\" in the tuple ('dog', 'cat', 'rabbit').\n",
        "x=('dog','cat','rabbit')\n",
        "print(x.index('cat'))"
      ],
      "metadata": {
        "colab": {
          "base_uri": "https://localhost:8080/"
        },
        "id": "LkMXDYlMP7sO",
        "outputId": "48f982bf-be09-4d1f-b3be-0125913450e8"
      },
      "execution_count": null,
      "outputs": [
        {
          "output_type": "stream",
          "name": "stdout",
          "text": [
            "1\n"
          ]
        }
      ]
    },
    {
      "cell_type": "code",
      "source": [
        "#15.Write a code to create a tuple containing three different fruits and check if \"kiwi\" is in it.\n",
        "x= (\"apple\", \"mango\",\"orange\")\n",
        "if \"kiwi\" in x:\n",
        "  print(\"kiwi is in tuple\")\n",
        "else:\n",
        "  print(\"Kiwi is not in the tuple\")"
      ],
      "metadata": {
        "colab": {
          "base_uri": "https://localhost:8080/"
        },
        "id": "4jgDW7w4QcIg",
        "outputId": "ecedb001-5484-439a-a7be-015568b5bf6e"
      },
      "execution_count": null,
      "outputs": [
        {
          "output_type": "stream",
          "name": "stdout",
          "text": [
            "Kiwi is not in the tuple\n"
          ]
        }
      ]
    },
    {
      "cell_type": "code",
      "source": [
        "#16.write a code to create a set with the elements'a','b','c'\n",
        "# Creating a set using set() constructor\n",
        "my_set = set(['a', 'b', 'c'])\n",
        "\n",
        "# Printing the set\n",
        "print(my_set)"
      ],
      "metadata": {
        "id": "8S009Y7eQ8pc",
        "colab": {
          "base_uri": "https://localhost:8080/"
        },
        "outputId": "28d30b53-f3e7-4bd3-dc78-9a932645cb03"
      },
      "execution_count": 1,
      "outputs": [
        {
          "output_type": "stream",
          "name": "stdout",
          "text": [
            "{'a', 'b', 'c'}\n"
          ]
        }
      ]
    },
    {
      "cell_type": "code",
      "source": [
        "#17. Write a code to clear all elements from the set {1, 2, 3, 4, 5}.\n",
        "# Creating a set\n",
        "my_set = {1, 2, 3, 4, 5}\n",
        "\n",
        "# Making it empty\n",
        "my_set = set()\n",
        "\n",
        "# Printing the set (will be empty)\n",
        "print(my_set)\n"
      ],
      "metadata": {
        "colab": {
          "base_uri": "https://localhost:8080/"
        },
        "id": "oWR-D5n9ODJQ",
        "outputId": "baec8d07-a3e9-4428-afa8-c89c9cce5ca5"
      },
      "execution_count": 2,
      "outputs": [
        {
          "output_type": "stream",
          "name": "stdout",
          "text": [
            "set()\n"
          ]
        }
      ]
    },
    {
      "cell_type": "code",
      "source": [
        "#18  Write a code to remove the element 4 from the set {1, 2, 3, 4}\n",
        "# Creating a set\n",
        "my_set = {1, 2, 3, 4}\n",
        "\n",
        "# Removing element 4\n",
        "my_set.remove(4)\n",
        "\n",
        "# Printing the set\n",
        "print(my_set)"
      ],
      "metadata": {
        "colab": {
          "base_uri": "https://localhost:8080/"
        },
        "id": "l3YIUI0YORVo",
        "outputId": "15744601-056b-4776-f5fc-d026f95fa525"
      },
      "execution_count": 3,
      "outputs": [
        {
          "output_type": "stream",
          "name": "stdout",
          "text": [
            "{1, 2, 3}\n"
          ]
        }
      ]
    },
    {
      "cell_type": "code",
      "source": [
        "#19. Write a code to find the union of two sets {1, 2, 3} and {3, 4, 5}.\n",
        "# Creating two sets\n",
        "set1 = {1, 2, 3}\n",
        "set2 = {3, 4, 5}\n",
        "\n",
        "# Finding the union\n",
        "union_set = set1.union(set2)\n",
        "\n",
        "# Printing the result\n",
        "print(union_set)"
      ],
      "metadata": {
        "colab": {
          "base_uri": "https://localhost:8080/"
        },
        "id": "jDdEA6rwOtZT",
        "outputId": "70638b71-26e5-4fea-9b49-3d66d1c63f5d"
      },
      "execution_count": 5,
      "outputs": [
        {
          "output_type": "stream",
          "name": "stdout",
          "text": [
            "{1, 2, 3, 4, 5}\n"
          ]
        }
      ]
    },
    {
      "cell_type": "code",
      "source": [
        "#20. Write a code to find the intersection of two sets {1, 2, 3} and {2, 3, 4}\n",
        "# Creating two sets\n",
        "set1 = {1, 2, 3}\n",
        "set2 = {2, 3, 4}\n",
        "\n",
        "# Finding intersection using '&'\n",
        "intersection_set = set1 & set2\n",
        "\n",
        "# Printing the result\n",
        "print(intersection_set)"
      ],
      "metadata": {
        "colab": {
          "base_uri": "https://localhost:8080/"
        },
        "id": "sfMOHaqBPJs3",
        "outputId": "97f3fc22-4cf0-457c-d130-3253b53c5a02"
      },
      "execution_count": 6,
      "outputs": [
        {
          "output_type": "stream",
          "name": "stdout",
          "text": [
            "{2, 3}\n"
          ]
        }
      ]
    },
    {
      "cell_type": "code",
      "source": [
        "#21. Write a code to create a dictionary with the keys \"name\", \"age\", and \"city\", and print it.\n",
        "# Creating a dictionary\n",
        "my_dict = {\n",
        "    \"name\": \"John\",\n",
        "    \"age\": 25,\n",
        "    \"city\": \"New York\"\n",
        "}\n",
        "\n",
        "# Printing the dictionary\n",
        "print(my_dict)"
      ],
      "metadata": {
        "colab": {
          "base_uri": "https://localhost:8080/"
        },
        "id": "uopEZS8-PV3P",
        "outputId": "bf2144c3-19b5-4a87-ef3f-e658fd6cd80e"
      },
      "execution_count": 7,
      "outputs": [
        {
          "output_type": "stream",
          "name": "stdout",
          "text": [
            "{'name': 'John', 'age': 25, 'city': 'New York'}\n"
          ]
        }
      ]
    },
    {
      "cell_type": "code",
      "source": [
        "#22.Write a code to add a new key-value pair \"country\": \"USA\" to the dictionary {'name': 'John', 'age': 25}.\n",
        "my_dict = {'name': 'John', 'age': 25}\n",
        "my_dict['country'] = 'USA'\n",
        "print(my_dict)"
      ],
      "metadata": {
        "colab": {
          "base_uri": "https://localhost:8080/"
        },
        "id": "1m1hxUf4Plnq",
        "outputId": "5b761b18-7da4-48c9-df3f-ae92d2c3735b"
      },
      "execution_count": 8,
      "outputs": [
        {
          "output_type": "stream",
          "name": "stdout",
          "text": [
            "{'name': 'John', 'age': 25, 'country': 'USA'}\n"
          ]
        }
      ]
    },
    {
      "cell_type": "code",
      "source": [
        "#23. . Write a code to access the value associated with the key \"name\" in the dictionary {'name': 'Alice', 'age': 30}.\n",
        "# Creating a dictionary\n",
        "my_dict = {'name': 'Alice', 'age': 30}\n",
        "\n",
        "# Accessing the value of \"name\"\n",
        "print(my_dict['name'])"
      ],
      "metadata": {
        "colab": {
          "base_uri": "https://localhost:8080/"
        },
        "id": "kv5t-ZlMP6Oc",
        "outputId": "668dee91-ae5f-4725-ab7a-75a100231238"
      },
      "execution_count": 9,
      "outputs": [
        {
          "output_type": "stream",
          "name": "stdout",
          "text": [
            "Alice\n"
          ]
        }
      ]
    },
    {
      "cell_type": "code",
      "source": [
        "#24. Write a code to remove the key \"age\" from the dictionary {'name': 'Bob', 'age': 22, 'city': 'New York'}.\n",
        "# Creating a dictionary\n",
        "my_dict = {'name': 'Bob', 'age': 22, 'city': 'New York'}\n",
        "\n",
        "# Removing the key \"age\"\n",
        "del my_dict['age']\n",
        "\n",
        "# Printing the updated dictionary\n",
        "print(my_dict)"
      ],
      "metadata": {
        "colab": {
          "base_uri": "https://localhost:8080/"
        },
        "id": "VoTluolaQDFe",
        "outputId": "cbaf163f-b5e5-4937-ff89-f4f83ec9422a"
      },
      "execution_count": 10,
      "outputs": [
        {
          "output_type": "stream",
          "name": "stdout",
          "text": [
            "{'name': 'Bob', 'city': 'New York'}\n"
          ]
        }
      ]
    },
    {
      "cell_type": "code",
      "source": [
        "#25.\n",
        "# Creating a dictionary\n",
        "my_dict = {'name': 'Alice', 'city': 'Paris'}\n",
        "\n",
        "# Checking if \"city\" exists\n",
        "if 'city' in my_dict:\n",
        "    print(\"Key 'city' exists in the dictionary\")\n",
        "else:\n",
        "    print(\"Key 'city' does not exist in the dictionary\")"
      ],
      "metadata": {
        "colab": {
          "base_uri": "https://localhost:8080/"
        },
        "id": "d3XV8SXXQPFG",
        "outputId": "41d17f60-82fe-496f-8893-99275a24b4d3"
      },
      "execution_count": 11,
      "outputs": [
        {
          "output_type": "stream",
          "name": "stdout",
          "text": [
            "Key 'city' exists in the dictionary\n"
          ]
        }
      ]
    },
    {
      "cell_type": "code",
      "source": [
        "#26  Write a code to create a list, a tuple, and a dictionary, and print them all.\n",
        "# Creating a list\n",
        "my_list = [1, 2, 3, 4]\n",
        "\n",
        "# Creating a tuple\n",
        "my_tuple = (10, 20, 30)\n",
        "\n",
        "# Creating a dictionary\n",
        "my_dict = {\"name\": \"John\", \"age\": 25}\n",
        "\n",
        "# Printing them all\n",
        "print(\"List:\", my_list)\n",
        "print(\"Tuple:\", my_tuple)\n",
        "print(\"Dictionary:\", my_dict)"
      ],
      "metadata": {
        "colab": {
          "base_uri": "https://localhost:8080/"
        },
        "id": "Nu1X-jEKQXrv",
        "outputId": "905832c7-eab1-42b5-d1fe-ea5a85ff8a96"
      },
      "execution_count": 12,
      "outputs": [
        {
          "output_type": "stream",
          "name": "stdout",
          "text": [
            "List: [1, 2, 3, 4]\n",
            "Tuple: (10, 20, 30)\n",
            "Dictionary: {'name': 'John', 'age': 25}\n"
          ]
        }
      ]
    },
    {
      "cell_type": "code",
      "source": [
        "#27.\n",
        "import random\n",
        "\n",
        "# Creating a list of 5 random numbers between 1 and 100\n",
        "numbers = [random.randint(1, 100) for _ in range(5)]\n",
        "\n",
        "# Sorting the list in ascending order\n",
        "numbers.sort()\n",
        "\n",
        "# Printing the result\n",
        "print(numbers)"
      ],
      "metadata": {
        "colab": {
          "base_uri": "https://localhost:8080/"
        },
        "id": "iGudkYS9QfoI",
        "outputId": "1444506e-01ab-4fd4-d0f7-ce2a5b1b7345"
      },
      "execution_count": 13,
      "outputs": [
        {
          "output_type": "stream",
          "name": "stdout",
          "text": [
            "[30, 58, 70, 71, 79]\n"
          ]
        }
      ]
    },
    {
      "cell_type": "code",
      "source": [
        "#28.\n",
        "# Creating a list of strings\n",
        "my_list = [\"apple\", \"banana\", \"cherry\", \"date\", \"mango\"]\n",
        "\n",
        "# Printing the element at the third index\n",
        "print(my_list[3])"
      ],
      "metadata": {
        "colab": {
          "base_uri": "https://localhost:8080/"
        },
        "id": "cmU2beGFQqGx",
        "outputId": "8ee616b7-b885-40d8-b2ed-f406270f0c27"
      },
      "execution_count": 14,
      "outputs": [
        {
          "output_type": "stream",
          "name": "stdout",
          "text": [
            "date\n"
          ]
        }
      ]
    },
    {
      "cell_type": "code",
      "source": [
        "#29.. Write a code to combine two dictionaries into one and print the result.\n",
        "# Creating two dictionaries\n",
        "dict1 = {\"name\": \"Alice\", \"age\": 25}\n",
        "dict2 = {\"city\": \"Paris\", \"country\": \"France\"}\n",
        "\n",
        "# Combining the dictionaries\n",
        "combined_dict = {**dict1, **dict2}\n",
        "\n",
        "# Printing the result\n",
        "print(combined_dict)"
      ],
      "metadata": {
        "colab": {
          "base_uri": "https://localhost:8080/"
        },
        "id": "c3f70dIbQxBZ",
        "outputId": "ec7fe092-833c-4b0e-842a-d3646b72d56c"
      },
      "execution_count": 15,
      "outputs": [
        {
          "output_type": "stream",
          "name": "stdout",
          "text": [
            "{'name': 'Alice', 'age': 25, 'city': 'Paris', 'country': 'France'}\n"
          ]
        }
      ]
    },
    {
      "cell_type": "code",
      "source": [
        "#30. Write a code to convert a list of strings into a set.\n",
        "# Creating a list of strings\n",
        "my_list = [\"apple\", \"banana\", \"cherry\", \"apple\"]\n",
        "\n",
        "# Converting list into a set\n",
        "my_set = set(my_list)\n",
        "\n",
        "# Printing the set\n",
        "print(my_set)"
      ],
      "metadata": {
        "colab": {
          "base_uri": "https://localhost:8080/"
        },
        "id": "Zq9kTxE8Q4Aq",
        "outputId": "b57291c9-d585-42ea-c383-da701ccc800f"
      },
      "execution_count": 16,
      "outputs": [
        {
          "output_type": "stream",
          "name": "stdout",
          "text": [
            "{'banana', 'cherry', 'apple'}\n"
          ]
        }
      ]
    },
    {
      "cell_type": "markdown",
      "source": [
        "theoritical answers\n",
        "1. What are data structures, and why are they important?\n",
        "   Data structures are ways of organizing and storing data. They are important because they allow efficient data access, modification, and storage for solving computational problems.\n",
        "\n",
        "2. Explain the difference between mutable and immutable data types with examples.\n",
        "\n",
        "   Mutable: Can be changed after creation (e.g., list, dict, set).\n",
        "\n",
        "  Immutable: Cannot be changed after creation (e.g., tuple, string, int).\n",
        "\n",
        "3. What are the main differences between lists and tuples in Python?\n",
        "\n",
        "   Lists are mutable; tuples are immutable.\n",
        "\n",
        "   Lists use []; tuples use ().\n",
        "\n",
        "   Tuples are faster and memory-efficient compared to lists.\n",
        "\n",
        "4. Describe how dictionaries store data.\n",
        "   Dictionaries store data as key-value pairs using a hash table internally, where keys are unique.\n",
        "\n",
        "5. Why might you use a set instead of a list in Python?\n",
        "\n",
        "   To store unique elements.\n",
        "\n",
        "   For faster membership checks (in).\n",
        "\n",
        "   To perform set operations like union, intersection, and difference.\n",
        "\n",
        "6. What is a string in Python, and how is it different from a list?\n",
        "  A string is a sequence of characters (immutable), while a list is a collection of elements (mutable).\n",
        "\n",
        "7. How do tuples ensure data integrity in Python?\n",
        "  Since tuples are immutable, their values cannot be changed after creation, ensuring data integrity.\n",
        "\n",
        "8. What is a hash table, and how does it relate to dictionaries in Python?\n",
        "  A hash table maps keys to values using a hash function. Python dictionaries are implemented using hash tables.\n",
        "\n",
        "9. Can lists contain different data types in Python?\n",
        "  yes, lists can contain mixed data types (e.g., [1, \"hello\", 3.5, True]).\n",
        "\n",
        "10. Explain why strings are immutable in Python.\n",
        "  Strings are immutable to improve security, efficiency (hashing), and memory management.\n",
        "\n",
        "11. What advantages do dictionaries offer over lists for certain tasks?\n",
        "\n",
        "  Faster lookups using keys (O(1)).\n",
        "\n",
        "  Data association with meaningful keys instead of numeric indices.\n",
        "\n",
        "12. Describe a scenario where using a tuple would be preferable over a list.\n",
        "  When storing constant data like coordinates (x, y) or days of the week, where data should not be modified.\n",
        "\n",
        "13. How do sets handle duplicate values in Python?\n",
        "  Sets automatically remove duplicate values and only store unique elements.\n",
        "\n",
        "14. How does the “in” keyword work differently for lists and dictionaries?\n",
        "\n",
        "  For lists: Checks if a value exists in the list.\n",
        "\n",
        "  For dictionaries: Checks if a key exists in the dictionary.\n",
        "\n",
        "15. Can you modify the elements of a tuple? Explain why or why not.\n",
        "  No, tuples are immutable, so their elements cannot be modified once created.\n",
        "\n",
        "16. What is a nested dictionary, and give an example of its use case?\n",
        " A nested dictionary is a dictionary within another dictionary.\n",
        "  Example:\n",
        "\n",
        "  students = {\n",
        "  \"101\": {\"name\": \"Alice\", \"age\": 20},\n",
        "  \"102\": {\"name\": \"Bob\", \"age\": 22}\n",
        "  }\n",
        "\n",
        "\n",
        "  Use case: Representing structured data like student records.\n",
        "\n",
        "17. Describe the time complexity of accessing elements in a dictionary.\n",
        "  Average case: O(1) (constant time) using hashing.\n",
        "  Worst case: O(n) (very rare, when collisions happen).\n",
        "\n",
        "18. In what situations are lists preferred over dictionaries?\n",
        "\n",
        "  When order matters.\n",
        "\n",
        "  When you need sequential data.\n",
        "\n",
        "   When you don’t need key-value mapping.\n",
        "\n",
        "19. Why are dictionaries considered unordered, and how does that affect data retrieval?\n",
        "    Before Python 3.7, dictionaries did not maintain insertion order (unordered). This meant retrieval order was not guaranteed. From Python 3.7+, they preserve insertion order, but still, data retrieval is based on keys, not positions.\n",
        "\n",
        "20. Explain the difference between a list and a dictionary in terms of data retrieval.\n",
        "\n",
        "  List: Retrieve elements using an index (list[0]).\n",
        "\n",
        "  Dictionary: Retrieve elements using a key (dict[\"name\"])."
      ],
      "metadata": {
        "id": "LXEvwoDpQ-vr"
      }
    }
  ]
}